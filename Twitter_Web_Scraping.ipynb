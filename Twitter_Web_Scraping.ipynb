{
 "cells": [
  {
   "cell_type": "code",
   "execution_count": 32,
   "id": "d4d7d172",
   "metadata": {},
   "outputs": [
    {
     "name": "stdout",
     "output_type": "stream",
     "text": [
      "Requirement already satisfied: ntscraper in c:\\users\\acer\\anaconda3\\lib\\site-packages (0.3.10)\n",
      "Requirement already satisfied: beautifulsoup4 in c:\\users\\acer\\anaconda3\\lib\\site-packages (from ntscraper) (4.11.1)\n",
      "Requirement already satisfied: requests in c:\\users\\acer\\anaconda3\\lib\\site-packages (from ntscraper) (2.28.1)\n",
      "Requirement already satisfied: lxml in c:\\users\\acer\\anaconda3\\lib\\site-packages (from ntscraper) (4.9.1)\n",
      "Requirement already satisfied: soupsieve>1.2 in c:\\users\\acer\\anaconda3\\lib\\site-packages (from beautifulsoup4->ntscraper) (2.3.2.post1)\n",
      "Requirement already satisfied: urllib3<1.27,>=1.21.1 in c:\\users\\acer\\anaconda3\\lib\\site-packages (from requests->ntscraper) (1.26.14)\n",
      "Requirement already satisfied: certifi>=2017.4.17 in c:\\users\\acer\\anaconda3\\lib\\site-packages (from requests->ntscraper) (2022.12.7)\n",
      "Requirement already satisfied: charset-normalizer<3,>=2 in c:\\users\\acer\\anaconda3\\lib\\site-packages (from requests->ntscraper) (2.0.4)\n",
      "Requirement already satisfied: idna<4,>=2.5 in c:\\users\\acer\\anaconda3\\lib\\site-packages (from requests->ntscraper) (3.4)\n",
      "Note: you may need to restart the kernel to use updated packages.\n"
     ]
    }
   ],
   "source": [
    "pip install --upgrade ntscraper\n"
   ]
  },
  {
   "cell_type": "code",
   "execution_count": 33,
   "id": "852fb34d-34b2-4443-8b81-2317b2187437",
   "metadata": {},
   "outputs": [],
   "source": [
    "import pandas as pd\n",
    "from ntscraper import Nitter"
   ]
  },
  {
   "cell_type": "code",
   "execution_count": 34,
   "id": "222ad4db-1475-4fd5-89f0-e88c815d3e70",
   "metadata": {},
   "outputs": [
    {
     "name": "stderr",
     "output_type": "stream",
     "text": [
      "Testing instances: 100%|██████████| 31/31 [01:09<00:00,  2.23s/it]\n"
     ]
    }
   ],
   "source": [
    "scraper = Nitter(0)"
   ]
  },
  {
   "cell_type": "code",
   "execution_count": 52,
   "id": "62452a25-64b6-42c9-b1b9-36674fb29a26",
   "metadata": {},
   "outputs": [],
   "source": [
    "tweets = scraper.get_tweets(\"VietNam\", mode = 'hashtag', number=100)"
   ]
  },
  {
   "cell_type": "code",
   "execution_count": 53,
   "id": "78abb7aa-1dee-4891-ae92-5857dcb0ce31",
   "metadata": {},
   "outputs": [],
   "source": [
    "final_tweets = []\n",
    "for x in tweets['tweets']:\n",
    "    data = [x['link'], x['text'],x['date'],x['stats']['likes'],x['stats']['comments']]\n",
    "    final_tweets.append(data)"
   ]
  },
  {
   "cell_type": "code",
   "execution_count": 75,
   "id": "247e9f5d-fdc2-484e-bdd7-ea7db3badb36",
   "metadata": {},
   "outputs": [],
   "source": [
    "dat = pd.DataFrame(final_tweets, columns =['twitter_link','text','date','likes','comments'])"
   ]
  },
  {
   "cell_type": "code",
   "execution_count": 77,
   "id": "6af78a9b",
   "metadata": {},
   "outputs": [],
   "source": [
    "import re\n",
    "# Assuming 'twitter_links' is your list of Twitter links\n",
    "twitter_links = dat['twitter_link'].tolist()\n",
    "\n",
    "# Function to extract usernames\n",
    "def extract_username_from_twitter_link(link):\n",
    "    pattern = r'https?://twitter\\.com/([^/]+)'\n",
    "    match = re.search(pattern, link)\n",
    "    if match:\n",
    "        return match.group(1)\n",
    "    else:\n",
    "        return None\n",
    "\n",
    "# Create a new column 'username' and write the list of usernames\n",
    "# dat['username'] = [extract_username_from_twitter_link(link) for link in twitter_links if extract_username_from_twitter_link(link) is not None]\n",
    "dat.insert(0, 'username', [extract_username_from_twitter_link(link) for link in twitter_links if extract_username_from_twitter_link(link) is not None])\n"
   ]
  },
  {
   "cell_type": "code",
   "execution_count": 84,
   "id": "29ffb86c",
   "metadata": {},
   "outputs": [
    {
     "data": {
      "text/html": [
       "<div>\n",
       "<style scoped>\n",
       "    .dataframe tbody tr th:only-of-type {\n",
       "        vertical-align: middle;\n",
       "    }\n",
       "\n",
       "    .dataframe tbody tr th {\n",
       "        vertical-align: top;\n",
       "    }\n",
       "\n",
       "    .dataframe thead th {\n",
       "        text-align: right;\n",
       "    }\n",
       "</style>\n",
       "<table border=\"1\" class=\"dataframe\">\n",
       "  <thead>\n",
       "    <tr style=\"text-align: right;\">\n",
       "      <th></th>\n",
       "      <th>username</th>\n",
       "      <th>twitter_link</th>\n",
       "      <th>text</th>\n",
       "      <th>date</th>\n",
       "      <th>likes</th>\n",
       "      <th>comments</th>\n",
       "    </tr>\n",
       "  </thead>\n",
       "  <tbody>\n",
       "    <tr>\n",
       "      <th>0</th>\n",
       "      <td>BiThChiTrc82752</td>\n",
       "      <td>https://twitter.com/BiThChiTrc82752/status/174...</td>\n",
       "      <td>Em mặc áo như vậy anh có thích không? #xãhội #...</td>\n",
       "      <td>Jan 19, 2024 · 1:53 AM UTC</td>\n",
       "      <td>0</td>\n",
       "      <td>0</td>\n",
       "    </tr>\n",
       "    <tr>\n",
       "      <th>1</th>\n",
       "      <td>Bastian__20</td>\n",
       "      <td>https://twitter.com/Bastian__20/status/1748161...</td>\n",
       "      <td>Indonesia 1-1 Vietnam ( sama sama raja asia,, ...</td>\n",
       "      <td>Jan 19, 2024 · 1:51 AM UTC</td>\n",
       "      <td>0</td>\n",
       "      <td>0</td>\n",
       "    </tr>\n",
       "    <tr>\n",
       "      <th>2</th>\n",
       "      <td>BarbaraSusanaS1</td>\n",
       "      <td>https://twitter.com/BarbaraSusanaS1/status/173...</td>\n",
       "      <td>Desarrolla @esceg11 intercambio con Academia N...</td>\n",
       "      <td>Dec 21, 2023 · 2:03 PM UTC</td>\n",
       "      <td>2</td>\n",
       "      <td>0</td>\n",
       "    </tr>\n",
       "    <tr>\n",
       "      <th>3</th>\n",
       "      <td>strategibola_</td>\n",
       "      <td>https://twitter.com/strategibola_/status/17475...</td>\n",
       "      <td>Kuis #Tebakskor Hadir Kembali !!! ⚡️Indonesia ...</td>\n",
       "      <td>Jan 17, 2024 · 9:21 AM UTC</td>\n",
       "      <td>74</td>\n",
       "      <td>71</td>\n",
       "    </tr>\n",
       "    <tr>\n",
       "      <th>4</th>\n",
       "      <td>LmTnTrc175004</td>\n",
       "      <td>https://twitter.com/LmTnTrc175004/status/17481...</td>\n",
       "      <td>Em mặc áo như vậy anh có thích không ?  #gaixi...</td>\n",
       "      <td>Jan 19, 2024 · 1:45 AM UTC</td>\n",
       "      <td>0</td>\n",
       "      <td>0</td>\n",
       "    </tr>\n",
       "    <tr>\n",
       "      <th>...</th>\n",
       "      <td>...</td>\n",
       "      <td>...</td>\n",
       "      <td>...</td>\n",
       "      <td>...</td>\n",
       "      <td>...</td>\n",
       "      <td>...</td>\n",
       "    </tr>\n",
       "    <tr>\n",
       "      <th>95</th>\n",
       "      <td>cubadebate_fr</td>\n",
       "      <td>https://twitter.com/cubadebate_fr/status/97908...</td>\n",
       "      <td>Dix jalons dans les relations entre #Cuba et l...</td>\n",
       "      <td>Mar 28, 2018 · 7:45 PM UTC</td>\n",
       "      <td>4</td>\n",
       "      <td>0</td>\n",
       "    </tr>\n",
       "    <tr>\n",
       "      <th>96</th>\n",
       "      <td>cubadebate_fr</td>\n",
       "      <td>https://twitter.com/cubadebate_fr/status/97908...</td>\n",
       "      <td>N’Guyen Phu Trong entame aujourd’hui une visit...</td>\n",
       "      <td>Mar 28, 2018 · 7:45 PM UTC</td>\n",
       "      <td>4</td>\n",
       "      <td>0</td>\n",
       "    </tr>\n",
       "    <tr>\n",
       "      <th>97</th>\n",
       "      <td>cubadebate_fr</td>\n",
       "      <td>https://twitter.com/cubadebate_fr/status/12841...</td>\n",
       "      <td>#Cuba et le #Vietnam : 60 ans d’une amitié san...</td>\n",
       "      <td>Jul 17, 2020 · 3:10 PM UTC</td>\n",
       "      <td>4</td>\n",
       "      <td>0</td>\n",
       "    </tr>\n",
       "    <tr>\n",
       "      <th>98</th>\n",
       "      <td>cubadebate_fr</td>\n",
       "      <td>https://twitter.com/cubadebate_fr/status/13045...</td>\n",
       "      <td>Raul, Diaz-Canel et Manuel Marrero félicitent ...</td>\n",
       "      <td>Sep 12, 2020 · 12:05 AM UTC</td>\n",
       "      <td>3</td>\n",
       "      <td>0</td>\n",
       "    </tr>\n",
       "    <tr>\n",
       "      <th>99</th>\n",
       "      <td>ArchDaily</td>\n",
       "      <td>https://twitter.com/ArchDaily/status/174716182...</td>\n",
       "      <td>Designing houses in #Vietnam's urban sprawl is...</td>\n",
       "      <td>Jan 16, 2024 · 7:40 AM UTC</td>\n",
       "      <td>382</td>\n",
       "      <td>3</td>\n",
       "    </tr>\n",
       "  </tbody>\n",
       "</table>\n",
       "<p>100 rows × 6 columns</p>\n",
       "</div>"
      ],
      "text/plain": [
       "           username                                       twitter_link  \\\n",
       "0   BiThChiTrc82752  https://twitter.com/BiThChiTrc82752/status/174...   \n",
       "1       Bastian__20  https://twitter.com/Bastian__20/status/1748161...   \n",
       "2   BarbaraSusanaS1  https://twitter.com/BarbaraSusanaS1/status/173...   \n",
       "3     strategibola_  https://twitter.com/strategibola_/status/17475...   \n",
       "4     LmTnTrc175004  https://twitter.com/LmTnTrc175004/status/17481...   \n",
       "..              ...                                                ...   \n",
       "95    cubadebate_fr  https://twitter.com/cubadebate_fr/status/97908...   \n",
       "96    cubadebate_fr  https://twitter.com/cubadebate_fr/status/97908...   \n",
       "97    cubadebate_fr  https://twitter.com/cubadebate_fr/status/12841...   \n",
       "98    cubadebate_fr  https://twitter.com/cubadebate_fr/status/13045...   \n",
       "99        ArchDaily  https://twitter.com/ArchDaily/status/174716182...   \n",
       "\n",
       "                                                 text  \\\n",
       "0   Em mặc áo như vậy anh có thích không? #xãhội #...   \n",
       "1   Indonesia 1-1 Vietnam ( sama sama raja asia,, ...   \n",
       "2   Desarrolla @esceg11 intercambio con Academia N...   \n",
       "3   Kuis #Tebakskor Hadir Kembali !!! ⚡️Indonesia ...   \n",
       "4   Em mặc áo như vậy anh có thích không ?  #gaixi...   \n",
       "..                                                ...   \n",
       "95  Dix jalons dans les relations entre #Cuba et l...   \n",
       "96  N’Guyen Phu Trong entame aujourd’hui une visit...   \n",
       "97  #Cuba et le #Vietnam : 60 ans d’une amitié san...   \n",
       "98  Raul, Diaz-Canel et Manuel Marrero félicitent ...   \n",
       "99  Designing houses in #Vietnam's urban sprawl is...   \n",
       "\n",
       "                           date  likes  comments  \n",
       "0    Jan 19, 2024 · 1:53 AM UTC      0         0  \n",
       "1    Jan 19, 2024 · 1:51 AM UTC      0         0  \n",
       "2    Dec 21, 2023 · 2:03 PM UTC      2         0  \n",
       "3    Jan 17, 2024 · 9:21 AM UTC     74        71  \n",
       "4    Jan 19, 2024 · 1:45 AM UTC      0         0  \n",
       "..                          ...    ...       ...  \n",
       "95   Mar 28, 2018 · 7:45 PM UTC      4         0  \n",
       "96   Mar 28, 2018 · 7:45 PM UTC      4         0  \n",
       "97   Jul 17, 2020 · 3:10 PM UTC      4         0  \n",
       "98  Sep 12, 2020 · 12:05 AM UTC      3         0  \n",
       "99   Jan 16, 2024 · 7:40 AM UTC    382         3  \n",
       "\n",
       "[100 rows x 6 columns]"
      ]
     },
     "execution_count": 84,
     "metadata": {},
     "output_type": "execute_result"
    }
   ],
   "source": [
    "dat"
   ]
  },
  {
   "cell_type": "code",
   "execution_count": 83,
   "id": "38f81752",
   "metadata": {},
   "outputs": [],
   "source": [
    "# Assuming 'dat' is your DataFrame\n",
    "file_path = 'C:\\\\Users\\\\Acer\\\\Desktop\\\\Data_Twitter.csv'  # Provide the desired directory and file name\n",
    "dat.to_csv(existing_file_path, index=False, encoding='utf-8')\n",
    "#DONE\n",
    "\n"
   ]
  },
  {
   "cell_type": "code",
   "execution_count": 61,
   "id": "79abab10",
   "metadata": {},
   "outputs": [
    {
     "name": "stdout",
     "output_type": "stream",
     "text": [
      "https://twitter.com/BiThChiTrc82752/status/1748161633527251055#m\n",
      "https://twitter.com/Bastian__20/status/1748161196371620012#m\n",
      "https://twitter.com/BarbaraSusanaS1/status/1737836203817496589#m\n",
      "https://twitter.com/strategibola_/status/1747549807051440287#m\n",
      "https://twitter.com/LmTnTrc175004/status/1748159775945162781#m\n",
      "https://twitter.com/MayElnora66737/status/1748159643845620021#m\n",
      "https://twitter.com/mrbk24/status/1748159506054578559#m\n",
      "https://twitter.com/duxingx67338912/status/1748159315368956108#m\n",
      "https://twitter.com/Umepo1/status/1748158643521118447#m\n",
      "https://twitter.com/mrbk24/status/1748158589624287644#m\n",
      "https://twitter.com/Dani_dhani20/status/1748158402243768729#m\n",
      "https://twitter.com/Thien90568/status/1745740977325940938#m\n",
      "https://twitter.com/LacBuoi/status/1748157073857331472#m\n",
      "https://twitter.com/KaspaCurrency/status/1745883181914448325#m\n",
      "https://twitter.com/marika_aoyama_/status/1730179575492264196#m\n",
      "https://twitter.com/orfecon/status/1748155816413212776#m\n",
      "https://twitter.com/LacBuoi/status/1748154972532076988#m\n",
      "https://twitter.com/Joseph_Ackenzie/status/1748154024074121669#m\n",
      "https://twitter.com/Frenzland_/status/1748013860102238384#m\n",
      "https://twitter.com/angepratt/status/1748153130779570295#m\n",
      "https://twitter.com/mhmmd1lham/status/1748151858236182757#m\n",
      "https://twitter.com/PM_ViktorOrban/status/1748029282264175072#m\n",
      "https://twitter.com/VietnamNewsVNS/status/1748151033879032276#m\n",
      "https://twitter.com/RamlanUsep/status/1748150545528033314#m\n",
      "https://twitter.com/AKyoake/status/1748149998607593875#m\n",
      "https://twitter.com/TravelWeeklyWeb/status/1748148305144516732#m\n",
      "https://twitter.com/AseanNewsToday/status/1748148813590597826#m\n",
      "https://twitter.com/RandySRobbins/status/1748148710104563887#m\n",
      "https://twitter.com/Serendipity0025/status/1747580761421574305#m\n",
      "https://twitter.com/Ababymeow/status/1748148198005526843#m\n",
      "https://twitter.com/Arcana770/status/1748147953624310248#m\n",
      "https://twitter.com/pressfreedom/status/1747972998068371819#m\n",
      "https://twitter.com/vietnambiker/status/1748147466527211934#m\n",
      "https://twitter.com/TeoVlogNZ/status/1748146823804633131#m\n",
      "https://twitter.com/CPJAmericas/status/1748075547551248804#m\n",
      "https://twitter.com/tuannguyenbd/status/1748142998918164990#m\n",
      "https://twitter.com/vaticannews_it/status/1747984884763681217#m\n",
      "https://twitter.com/TriNguyen_88/status/1748141793164857405#m\n",
      "https://twitter.com/NeboLive/status/1748140761667768385#m\n",
      "https://twitter.com/johanstravel/status/1748140740239294906#m\n",
      "https://twitter.com/justtodo18/status/1747492285552677189#m\n",
      "https://twitter.com/justtodo18/status/1746412400381960361#m\n",
      "https://twitter.com/MisMarcadores_/status/1748138088046485520#m\n",
      "https://twitter.com/ANuVy0/status/1748137679286641108#m\n",
      "https://twitter.com/jamliga_com/status/1748136181387416015#m\n",
      "https://twitter.com/inkalong1/status/1748135697004081279#m\n",
      "https://twitter.com/vn92_thanh/status/1748134158118080580#m\n",
      "https://twitter.com/CPJAfrica/status/1747974769524220233#m\n",
      "https://twitter.com/VietnamBriefing/status/1748133261488857268#m\n",
      "https://twitter.com/DezanShira/status/1748133260859736070#m\n",
      "https://twitter.com/susukino456/status/1748133173349990628#m\n",
      "https://twitter.com/JasaNobar/status/1748132571085779356#m\n",
      "https://twitter.com/3littlestocks/status/1748132345239228557#m\n",
      "https://twitter.com/offroadvietnam/status/1748129469787959380#m\n",
      "https://twitter.com/uclstreamsus/status/1748127081987494277#m\n",
      "https://twitter.com/nucciogatto/status/1748126963733004555#m\n",
      "https://twitter.com/WeAreNotFood/status/1742881260702179636#m\n",
      "https://twitter.com/Solis_Inverters/status/1742449055392018474#m\n",
      "https://twitter.com/catholicnews1/status/1748082461823684984#m\n",
      "https://twitter.com/GlobalKdsl/status/1747896352208777241#m\n",
      "https://twitter.com/InvertirEnCafe/status/1747997281163579431#m\n",
      "https://twitter.com/Aoi_Russhava/status/1748118594913972517#m\n",
      "https://twitter.com/javakalle/status/1748117996684361977#m\n",
      "https://twitter.com/LaJornadaBC/status/1748116881267896784#m\n",
      "https://twitter.com/hani84475450/status/1748115821942182338#m\n",
      "https://twitter.com/liliblu81657975/status/1748115140820791598#m\n",
      "https://twitter.com/LordRoyalWHO/status/1748114113392210196#m\n",
      "https://twitter.com/iAmchintan369/status/1746541753946263926#m\n",
      "https://twitter.com/JPadronpaz/status/1748112663559770125#m\n",
      "https://twitter.com/thanhphat08/status/1748111977522900994#m\n",
      "https://twitter.com/jpnncom/status/1748111047146541218#m\n",
      "https://twitter.com/Mannyharlem/status/1748110616596738361#m\n",
      "https://twitter.com/reisemagazinon/status/1748105698158735669#m\n",
      "https://twitter.com/pio_pell/status/1748103614428520907#m\n",
      "https://twitter.com/vaticannews_es/status/1747991224957489215#m\n",
      "https://twitter.com/ORFKolkata/status/1748099192793305195#m\n",
      "https://twitter.com/DrTedros/status/1748084668275069116#m\n",
      "https://twitter.com/AndynguyenTX/status/1748095665270300905#m\n",
      "https://twitter.com/telugustop/status/1748095223727886803#m\n",
      "https://twitter.com/byjakobskoet/status/1748094460158709939#m\n",
      "https://twitter.com/BlinkkVenom/status/1747793747365273978#m\n",
      "https://twitter.com/RileyTChiweenie/status/1745123036481880318#m\n",
      "https://twitter.com/VietnamNewsVNS/status/1747788646030479526#m\n",
      "https://twitter.com/_UberRealEstate/status/1748087925575733538#m\n",
      "https://twitter.com/IlBlogdiAndy/status/1748087821900931558#m\n",
      "https://twitter.com/gbibuildingco/status/1748082165139616101#m\n",
      "https://twitter.com/GaurArpit24/status/1748081441827668274#m\n",
      "https://twitter.com/gbibuildingco/status/1748079950559654273#m\n",
      "https://twitter.com/allard_sol/status/1748079299725234519#m\n",
      "https://twitter.com/kawakamitakeru/status/1747604509206192132#m\n",
      "https://twitter.com/HoangLong1969/status/1748077536922288391#m\n",
      "https://twitter.com/TONYLAMB_1969/status/1748077328297574726#m\n",
      "https://twitter.com/TonyLamb28/status/1748077009626911197#m\n",
      "https://twitter.com/tonylamb1969/status/1748076719309766901#m\n",
      "https://twitter.com/RealAirPower1/status/1742178546884243651#m\n",
      "https://twitter.com/cubadebate_fr/status/979081972462088193#m\n",
      "https://twitter.com/cubadebate_fr/status/979081974232076288#m\n",
      "https://twitter.com/cubadebate_fr/status/1284143331581267969#m\n",
      "https://twitter.com/cubadebate_fr/status/1304571690773606400#m\n",
      "https://twitter.com/ArchDaily/status/1747161820316463201#m\n"
     ]
    }
   ],
   "source": [
    "twitter_links = dat['twitter_link'].tolist()\n",
    "\n",
    "# Print the extracted Twitter links\n",
    "for link in twitter_links:\n",
    "    print(link)"
   ]
  },
  {
   "cell_type": "code",
   "execution_count": 70,
   "id": "003f4f6e",
   "metadata": {},
   "outputs": [
    {
     "name": "stdout",
     "output_type": "stream",
     "text": [
      "['BiThChiTrc82752', 'Bastian__20', 'BarbaraSusanaS1', 'strategibola_', 'LmTnTrc175004', 'MayElnora66737', 'mrbk24', 'duxingx67338912', 'Umepo1', 'mrbk24', 'Dani_dhani20', 'Thien90568', 'LacBuoi', 'KaspaCurrency', 'marika_aoyama_', 'orfecon', 'LacBuoi', 'Joseph_Ackenzie', 'Frenzland_', 'angepratt', 'mhmmd1lham', 'PM_ViktorOrban', 'VietnamNewsVNS', 'RamlanUsep', 'AKyoake', 'TravelWeeklyWeb', 'AseanNewsToday', 'RandySRobbins', 'Serendipity0025', 'Ababymeow', 'Arcana770', 'pressfreedom', 'vietnambiker', 'TeoVlogNZ', 'CPJAmericas', 'tuannguyenbd', 'vaticannews_it', 'TriNguyen_88', 'NeboLive', 'johanstravel', 'justtodo18', 'justtodo18', 'MisMarcadores_', 'ANuVy0', 'jamliga_com', 'inkalong1', 'vn92_thanh', 'CPJAfrica', 'VietnamBriefing', 'DezanShira', 'susukino456', 'JasaNobar', '3littlestocks', 'offroadvietnam', 'uclstreamsus', 'nucciogatto', 'WeAreNotFood', 'Solis_Inverters', 'catholicnews1', 'GlobalKdsl', 'InvertirEnCafe', 'Aoi_Russhava', 'javakalle', 'LaJornadaBC', 'hani84475450', 'liliblu81657975', 'LordRoyalWHO', 'iAmchintan369', 'JPadronpaz', 'thanhphat08', 'jpnncom', 'Mannyharlem', 'reisemagazinon', 'pio_pell', 'vaticannews_es', 'ORFKolkata', 'DrTedros', 'AndynguyenTX', 'telugustop', 'byjakobskoet', 'BlinkkVenom', 'RileyTChiweenie', 'VietnamNewsVNS', '_UberRealEstate', 'IlBlogdiAndy', 'gbibuildingco', 'GaurArpit24', 'gbibuildingco', 'allard_sol', 'kawakamitakeru', 'HoangLong1969', 'TONYLAMB_1969', 'TonyLamb28', 'tonylamb1969', 'RealAirPower1', 'cubadebate_fr', 'cubadebate_fr', 'cubadebate_fr', 'cubadebate_fr', 'ArchDaily']\n"
     ]
    }
   ],
   "source": [
    "import re\n",
    "\n",
    "def extract_username_from_twitter_link(link):\n",
    "    # Define a regular expression pattern to extract the username from the Twitter link\n",
    "    pattern = r'https?://twitter\\.com/([^/]+)'\n",
    "\n",
    "    # Use re.search to find the match in the link\n",
    "    match = re.search(pattern, link)\n",
    "\n",
    "    # Check if a match is found\n",
    "    if match:\n",
    "        # The username is in the first capturing group\n",
    "        username = match.group(1)\n",
    "        return username\n",
    "    else:\n",
    "        # Return None if no match is found\n",
    "        return None\n",
    "\n",
    "# Assuming 'twitter_links' is your list of Twitter links\n",
    "usernames = [extract_username_from_twitter_link(link) for link in twitter_links if extract_username_from_twitter_link(link) is not None]\n",
    "\n",
    "# Print the list of usernames\n",
    "print(usernames)"
   ]
  },
  {
   "cell_type": "code",
   "execution_count": 13,
   "id": "ab2c408b-06a5-4e8e-b482-d6eda61a8fbf",
   "metadata": {},
   "outputs": [],
   "source": [
    "tweets = scraper.get_profile_info(\"Josechic86\")"
   ]
  },
  {
   "cell_type": "code",
   "execution_count": 14,
   "id": "15ed575d-452b-4ca7-a0d9-2c8b5a9ea8ce",
   "metadata": {},
   "outputs": [
    {
     "data": {
      "text/plain": [
       "{'image': 'https://pbs.twimg.com/profile_images/1747650487191531520/fF7vEWeN_400x400.jpg',\n",
       " 'name': 'José Chic',\n",
       " 'username': '@Josechic86',\n",
       " 'id': '',\n",
       " 'bio': 'Diputado al Congreso de la República.\\n\\n             Porque el Poder Radica en el Pueblo',\n",
       " 'location': '',\n",
       " 'website': '',\n",
       " 'joined': '3:27 AM - 9 Jul 2022',\n",
       " 'stats': {'tweets': 100,\n",
       "  'following': 35,\n",
       "  'followers': 1682,\n",
       "  'likes': 8,\n",
       "  'media': 42}}"
      ]
     },
     "execution_count": 14,
     "metadata": {},
     "output_type": "execute_result"
    }
   ],
   "source": [
    "tweets"
   ]
  },
  {
   "cell_type": "code",
   "execution_count": 16,
   "id": "da5d2f6a-dd29-45d7-a3e3-ec8200ea9b71",
   "metadata": {},
   "outputs": [
    {
     "data": {
      "text/plain": [
       "'https://pbs.twimg.com/profile_images/1747650487191531520/fF7vEWeN_400x400.jpg'"
      ]
     },
     "execution_count": 16,
     "metadata": {},
     "output_type": "execute_result"
    }
   ],
   "source": [
    "tweets['image']"
   ]
  },
  {
   "cell_type": "code",
   "execution_count": 17,
   "id": "eb741d7a-2d62-4a15-a947-81b2af790584",
   "metadata": {},
   "outputs": [],
   "source": [
    "def get_tweets(name, modes, no):\n",
    "    tweets = scraper.get_tweets(name, mode = modes, number=no)\n",
    "    final_tweets = []\n",
    "    for x in tweets['tweets']:\n",
    "        data = [x['link'], x['text'],x['date'],x['stats']['likes'],x['stats']['comments']]\n",
    "        final_tweets.append(data)\n",
    "    dat= pd.DataFrame(final_tweets, columns =['twitter_link','text','date','likes','comments'])\n",
    "    return dat"
   ]
  },
  {
   "cell_type": "code",
   "execution_count": 19,
   "id": "85196f3c-2058-44b4-b9b0-9a93f44453e7",
   "metadata": {},
   "outputs": [],
   "source": [
    "data = get_tweets('Josechic86','user',6)"
   ]
  },
  {
   "cell_type": "code",
   "execution_count": 20,
   "id": "d23ebe69-b031-4da4-b61d-009fbc7350d7",
   "metadata": {},
   "outputs": [
    {
     "data": {
      "text/html": [
       "<div>\n",
       "<style scoped>\n",
       "    .dataframe tbody tr th:only-of-type {\n",
       "        vertical-align: middle;\n",
       "    }\n",
       "\n",
       "    .dataframe tbody tr th {\n",
       "        vertical-align: top;\n",
       "    }\n",
       "\n",
       "    .dataframe thead th {\n",
       "        text-align: right;\n",
       "    }\n",
       "</style>\n",
       "<table border=\"1\" class=\"dataframe\">\n",
       "  <thead>\n",
       "    <tr style=\"text-align: right;\">\n",
       "      <th></th>\n",
       "      <th>twitter_link</th>\n",
       "      <th>text</th>\n",
       "      <th>date</th>\n",
       "      <th>likes</th>\n",
       "      <th>comments</th>\n",
       "    </tr>\n",
       "  </thead>\n",
       "  <tbody>\n",
       "    <tr>\n",
       "      <th>0</th>\n",
       "      <td>https://twitter.com/Josechic86/status/17481194...</td>\n",
       "      <td>El Ministerio Publico debe investigar al ex #P...</td>\n",
       "      <td>Jan 18, 2024 · 11:05 PM UTC</td>\n",
       "      <td>975</td>\n",
       "      <td>13</td>\n",
       "    </tr>\n",
       "    <tr>\n",
       "      <th>1</th>\n",
       "      <td>https://twitter.com/Josechic86/status/17480651...</td>\n",
       "      <td>Este viernes 19 de enero 2024 elegiremos a la ...</td>\n",
       "      <td>Jan 18, 2024 · 7:29 PM UTC</td>\n",
       "      <td>542</td>\n",
       "      <td>26</td>\n",
       "    </tr>\n",
       "    <tr>\n",
       "      <th>2</th>\n",
       "      <td>https://twitter.com/Josechic86/status/17480211...</td>\n",
       "      <td>#VosInes se suspendio la plenaria de hoy.  Por...</td>\n",
       "      <td>Jan 18, 2024 · 4:34 PM UTC</td>\n",
       "      <td>54</td>\n",
       "      <td>4</td>\n",
       "    </tr>\n",
       "    <tr>\n",
       "      <th>3</th>\n",
       "      <td>https://twitter.com/Josechic86/status/17478139...</td>\n",
       "      <td>Mal inicio de la gestión del Ministro @MinSalu...</td>\n",
       "      <td>Jan 18, 2024 · 2:51 AM UTC</td>\n",
       "      <td>232</td>\n",
       "      <td>31</td>\n",
       "    </tr>\n",
       "    <tr>\n",
       "      <th>4</th>\n",
       "      <td>https://twitter.com/Josechic86/status/17477991...</td>\n",
       "      <td>Debe ser investigado #albertopimentel ahora qu...</td>\n",
       "      <td>Jan 18, 2024 · 1:52 AM UTC</td>\n",
       "      <td>448</td>\n",
       "      <td>4</td>\n",
       "    </tr>\n",
       "    <tr>\n",
       "      <th>5</th>\n",
       "      <td>https://twitter.com/Josechic86/status/17477762...</td>\n",
       "      <td>No basta con la destitución de Francis Argueta...</td>\n",
       "      <td>Jan 18, 2024 · 12:21 AM UTC</td>\n",
       "      <td>1511</td>\n",
       "      <td>39</td>\n",
       "    </tr>\n",
       "  </tbody>\n",
       "</table>\n",
       "</div>"
      ],
      "text/plain": [
       "                                        twitter_link  \\\n",
       "0  https://twitter.com/Josechic86/status/17481194...   \n",
       "1  https://twitter.com/Josechic86/status/17480651...   \n",
       "2  https://twitter.com/Josechic86/status/17480211...   \n",
       "3  https://twitter.com/Josechic86/status/17478139...   \n",
       "4  https://twitter.com/Josechic86/status/17477991...   \n",
       "5  https://twitter.com/Josechic86/status/17477762...   \n",
       "\n",
       "                                                text  \\\n",
       "0  El Ministerio Publico debe investigar al ex #P...   \n",
       "1  Este viernes 19 de enero 2024 elegiremos a la ...   \n",
       "2  #VosInes se suspendio la plenaria de hoy.  Por...   \n",
       "3  Mal inicio de la gestión del Ministro @MinSalu...   \n",
       "4  Debe ser investigado #albertopimentel ahora qu...   \n",
       "5  No basta con la destitución de Francis Argueta...   \n",
       "\n",
       "                          date  likes  comments  \n",
       "0  Jan 18, 2024 · 11:05 PM UTC    975        13  \n",
       "1   Jan 18, 2024 · 7:29 PM UTC    542        26  \n",
       "2   Jan 18, 2024 · 4:34 PM UTC     54         4  \n",
       "3   Jan 18, 2024 · 2:51 AM UTC    232        31  \n",
       "4   Jan 18, 2024 · 1:52 AM UTC    448         4  \n",
       "5  Jan 18, 2024 · 12:21 AM UTC   1511        39  "
      ]
     },
     "execution_count": 20,
     "metadata": {},
     "output_type": "execute_result"
    }
   ],
   "source": [
    "data"
   ]
  },
  {
   "cell_type": "code",
   "execution_count": 126,
   "id": "c4efb192-6e73-4b61-acf6-b9afb94214cf",
   "metadata": {},
   "outputs": [
    {
     "data": {
      "text/plain": [
       "{'image': 'https://pbs.twimg.com/profile_images/1674815862879178752/nTGMV1Eo_400x400.jpg',\n",
       " 'name': 'Bill Gates',\n",
       " 'username': '@BillGates',\n",
       " 'id': '50393960',\n",
       " 'bio': \"Sharing things I'm learning through my foundation work and other interests.\",\n",
       " 'location': 'Seattle, WA',\n",
       " 'website': 'https://gatesnot.es/blog',\n",
       " 'joined': '6:44 PM - 24 Jun 2009',\n",
       " 'stats': {'tweets': 4440,\n",
       "  'following': 583,\n",
       "  'followers': 64283753,\n",
       "  'likes': 540,\n",
       "  'media': 1511}}"
      ]
     },
     "execution_count": 126,
     "metadata": {},
     "output_type": "execute_result"
    }
   ],
   "source": [
    "scraper.get_profile_info('BillGates')"
   ]
  },
  {
   "cell_type": "code",
   "execution_count": null,
   "id": "7327d6be-2e4e-414b-9eb0-eaeb96e0a71a",
   "metadata": {},
   "outputs": [],
   "source": []
  }
 ],
 "metadata": {
  "kernelspec": {
   "display_name": "Python 3 (ipykernel)",
   "language": "python",
   "name": "python3"
  },
  "language_info": {
   "codemirror_mode": {
    "name": "ipython",
    "version": 3
   },
   "file_extension": ".py",
   "mimetype": "text/x-python",
   "name": "python",
   "nbconvert_exporter": "python",
   "pygments_lexer": "ipython3",
   "version": "3.10.9"
  }
 },
 "nbformat": 4,
 "nbformat_minor": 5
}
